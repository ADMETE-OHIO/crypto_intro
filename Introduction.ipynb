{
 "cells": [
  {
   "cell_type": "markdown",
   "id": "095aba06",
   "metadata": {},
   "source": [
    "# Cryptography and Frequency Analysis\n",
    "## Introduction\n",
    "\n",
    "In this module, we will cover the following items.\n",
    "\n",
    "1. [What is cryptography?](./crypto1.ipynb)      \n",
    "2. [How is crytography used?](./uses.ipynb)\n",
    "3. [How can cryptography be attacked?](./attacks.ipynb)\n",
    "4. [A Simple Example](./example.ipynb) \n",
    "     - Example: A Simple Pair of Encryption/Decryption algorithms\n",
    "     - Example: Finding the Secret message without a password.\n",
    "     - Advanced Exercise: Break big passwords quickly!\n",
    "\n",
    "Core idea:  Why are strong passwords important?"
   ]
  },
  {
   "cell_type": "markdown",
   "id": "b386b60b",
   "metadata": {},
   "source": []
  }
 ],
 "metadata": {
  "kernelspec": {
   "display_name": "Python 3",
   "language": "python",
   "name": "python3"
  },
  "language_info": {
   "codemirror_mode": {
    "name": "ipython",
    "version": 3
   },
   "file_extension": ".py",
   "mimetype": "text/x-python",
   "name": "python",
   "nbconvert_exporter": "python",
   "pygments_lexer": "ipython3",
   "version": "3.9.5"
  }
 },
 "nbformat": 4,
 "nbformat_minor": 5
}
