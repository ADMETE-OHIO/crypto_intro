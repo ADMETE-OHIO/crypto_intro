{
 "cells": [
  {
   "cell_type": "markdown",
   "id": "bdb449bf",
   "metadata": {},
   "source": [
    "# A Simple Example and Exercises\n",
    "\n",
    "Here we will discuss a simple example that (i) shows how to encrypt a file using a password, (ii) how to decrypt the file using a\n",
    "password, and (iii) how to perform a brute force attack to find the original file.\n",
    "\n",
    "## Simple Idea\n",
    "As an example, we will use a simply encryption algorithm the takes a plaintext, \n",
    "e.g., *Mary had a little lamb.* and \n",
    "a password, e.g., *abc* and does the following to each character in the plaintex\n",
    "t:\n",
    "1. It converts the ith character in the string to an integer using the `ord` function.\n",
    "2. It converts the ith character of the password to an integer using the `ord` function.   (If the password is shorter than the plaintext, the character from the password that is used is the character i `mod` the length of the password.) \n",
    "3. It outputs the number (character) produced by applying the XOR function (`^` \n",
    "in Python) to the results from 1 and 2.\n",
    "\n",
    "\n",
    "The resulting encrypted string is simply a list of numbers, some which may corre\n",
    "spond to characters.\n",
    "\n",
    "For example, *Mary hard a little lamb.* corresponds to the following list\n",
    "of character codes\n",
    "\n",
    "    [77, 97, 114, 121, 32, 104, 97, 100, 32, 97, 32, 108, \n",
    "    105, 116, 116, 108, 101, 32, 108, 97, 109, 98, 46, 10]\n",
    "\n",
    "    because `M` corresponds to character code 77 and `.` corresponds to character code 10.   (Notice that character code 32 corresponds to a space.)\n",
    "If we encrypt this plaintext with a password (e.g., *abc*), we get the following ciphertext.\n",
    "\n",
    "    [44, 3, 17, 24, 66, 11, 0, 6, 67, 0, 66, 15, 8, 22, 23, 13, 7, \n",
    "     67, 13, 3, 14, 3, 76, 105]\n",
    "\n",
    "Because many of these numbers correspond to unprintable characters, we store these values as a list of numbers instead of characters.  Representing this list of integers as a string gives the following string:\n",
    "\n",
    "     ,___B __C_B____ _C ___Li\n",
    "\n",
    "(Here we use the `_` character to represent an unprintable character.)\n",
    "\n",
    "Let's look at the encryption program."
   ]
  },
  {
   "cell_type": "code",
   "execution_count": null,
   "id": "47b8b9f4",
   "metadata": {},
   "outputs": [],
   "source": [
    "f = open(\"Encrypt.py\")\n",
    "data=f.read()\n",
    "print(data)"
   ]
  },
  {
   "cell_type": "markdown",
   "id": "323aa33a",
   "metadata": {},
   "source": [
    "This program opens a file `plaintext` and writes to a file `ciphertext` .   The companion program `Decrypt.py` reads the file ciphertext and \n",
    "outputs the file plaintext.\n",
    "\n",
    "Let's look at the decryption program in Python."
   ]
  },
  {
   "cell_type": "code",
   "execution_count": null,
   "id": "4b285018",
   "metadata": {},
   "outputs": [],
   "source": [
    "f = open(\"Decrypt.py\")\n",
    "data=f.read()\n",
    "print(data)"
   ]
  },
  {
   "cell_type": "markdown",
   "id": "ecef0aaa",
   "metadata": {},
   "source": [
    "We have a file `ciphertext`that was encrypted using a three character password.   See if you can guess the 3 word password!\n"
   ]
  },
  {
   "cell_type": "code",
   "execution_count": 1,
   "id": "f512333c",
   "metadata": {},
   "outputs": [
    {
     "name": "stdout",
     "output_type": "stream",
     "text": [
      "Enter a password:pda\n",
      "The decrypted text as a string:\n",
      "Ferruqry05,019(1\n",
      "_Go_d uve~inw.\n",
      "_I'} s`ea{inw t_ y_u donyghd t_ gyve0yoe a0re`ord o~ txe ctade _f _ur0Nadio~'s0ec_no}y.0I begbet0to0sai txat0we7re0in0thu w_rsd eson_mis muss0si~ce0thu Gbead Duprussyon>\n",
      "\n",
      "Q fuw tayc awo Y wqs `recended0widh q rupobt Y'd0as{ed0fob, q c_mpbehunsyve0autit< iv y_u gil|, _f _ur0ec_no}ic0co~didio~. Iou0wo~'t0li{e yt.0I tid~'t0li{e yt.0Bud wu hqve0to0fase dhe0treth0ant txen0go0to0wobk do dur~ txinws qroend> A~d }aku n_ mystqke0ab_ut0it< wu cqn dur~ txem0ar_unt.\n",
      "_I'} n_t woi~g do cubzecd y_u do dhe0ju}blu ov cxards,0fiwurus,0ant eson_mis jqrg_n _f dhad aedid, rut0radheb wyll0tri t_ ehplqin0whure0we0aru, xow0we0god txeru, qnd0hog wu cqn wet0bask.0Fibst< h_wefer< lut }e zusd gyve0a vew0``qttuntyon0gedtebs'7 fbom0thu aedid.\n",
      "_Thu Fudebal0butged ic oet _f sondro|, qnd0we0fase bunqwai dufisitc ov a|moct 4800bi|li_n vor0thys rudwet0yeqr dhad e~ds0Se`te}beb 3 th> Txat0devicyt ys |arwer0thqn dhe0endiru Fudebal0butged i~ 1)57< a~d co ys dhe0al}osd $(0 ril|io~ wu wyll0pai i~ i~tebesd txis0yeqr _n dhe0nadio~al0dert._\n",
      "Tgendy ieabs qgo< i~ 1)60< oer Vedura| G_vebnmunt0pairo|l gas0lecs dha~ $!3 ril|io~. Dodqy yt ys '5 ril|io~. Turyng0thuse0200yeqrs0oub p_pu|atyon0hac o~ly0insreqset bi 2#.30pebce~t.0Thu Fudebal0butged hqs wonu u` 5\"8 `ersend.\n",
      "_Nog, ge'fe zusd hqd \" yuarc ov bqck=to=bask tourle=diwit0invladio~ -= 1#.30pebce~t yn !97), !2.$ purcunt0lact ieab. Dhe0lact dimu txis0ha`pe~ed0wac i~ W_rlt Wqr Y.\n",
      "_In019&0 }ordgawe ynturect batus qvebagud qboet & purcunt> Txey7re02\\!/2L tymec ac hygh0nog, !5.$ purcunt>\n",
      "\n",
      "Dhe0pebce~tawe _f ioub eqrnyngc txe Vedura| G_vebnmunt0to_k yn daxus yn !96  hqs qlm_st0doeblud._\n",
      "A~d vinqlli txeru abe ' myllyon0Amurisanc cqugxt ep yn dhe0pebso~al0intig~iti a~d xumqn drawedi ov u~em`loime~t.0If0thuy cto_d yn q lyne< a|loginw 30feut vor0eash `ercon< txe |inu w_ult ruacx fbom0thu c_asd ov Mqinu t_ Cqlivor~ia>\n",
      "\n",
      "Gel|, co }ucx f_r dhe0autit0itcelv. \\et0me0tri t_ pet dhic i~ purs_na| turmc. Xeru ic a0do|lab sech0as0yoe eqrnud,0spunt< ob sqvet i~ 1)60> A~d xeru ic a0quqrtur,0a timu, qnd0a `en~y =- #6 sends.0Thqt'c wxat0thys !96  d_llqr ys gordh dodqy.0Ant iv txe `recend w_rlt i~flqti_n batu sxou|d sondinee # m_re0yeqrs< txat0do|lab ov 1)600wi|l re gordh q qearder> Wxat0inytiqtife ys dhebe do cavu? Qnd0if0we0do~'t0safe ge'be chobt _f dhe0infesdme~t sapyta| nuedud vor0bucinuss0ant i~ductri ehpa~si_n.0Wobkebs yn Zapqn qnd0Wect Wer}ani sqve0seferql dimus dhe0pebce~tawe _f dheyr ync_me0thqn Qmebicqns0do>\n",
      "\n",
      "Ghad's0ha`pe~ed0to0thqt Qmebicqn treqm _f _wnyng0a xomu? _nli 1  yuarc awo q fqmi|y sou|d ruy0a xomu, qnd0thu m_ntxly0paime~t qvebagud |itdle0mobe dha~ a0quqrtur =- \"7 sends _ut0of0eash tol|ar0eabnet. Dodqy,0it0ta{es0420ce~ts0oud ov eferi d_llqr _f ync_me> S_, vewur dha~ 10oud ov 1! fqmi|iec cqn qff_rd0to0bui txeib fyrsd nuw xomu.\n",
      "_Rewulqti_ns0ad_ptud ry wovurn}end wyth0thu bust0of0indendio~s xavu atdet $&660to0thu c_st0of0an0audom_bi|e.0It0is0esdimqtet txat0aldoguthur begeladio~s _f uveby {int, _n cho`keupebs,0fabmebs,0ant mqjob i~ductryes< atd 410  byllyon0or0mobe do dhe0coct _f dhe0go_ds0ant survycec wu bey.0Ant txen0an_thur \"0 ril|io~ ic s`end bi g_vebnmunt0ha~dlyng0thu pqpebwobk sreqtet bi txosu rugu|atyonc.\n",
      "_I'} sere0yoe'ru guttyng0thu itea0thqt dhe0autit0pruse~tet t_ mu f_unt g_vebnmunt0po|icyes0of0thu lqst0feg ducates0recpo~sirle0fob oer uco~omyc droeblus.0We0fobgod ob jest0ovurl_okud dhe0fast dhad g_vebnmunt0--0ani g_vebnmunt0--0hac a0buylt=in0te~de~cy0to0gr_w.0Nog, ge qll0hat a0ha~d yn |oo{inw t_ g_vebnmunt0fob bunevitc ac iv g_vebnmunt0hat s_me0soercu ov ruve~ue0otxer0thqn _ur0eabni~gs> Mqny0if0nod m_st0of0thu txinws ge dhoeghd ov ob txat0gofer~me~t _ffuret t_ uc suemud qttbacdivu.\n",
      "_In0thu yuarc f_ll_wi~g dhe0Sesont W_rlt Wqr yt gas0eacy,0fob a0whyle0at0leqst< t_ ofer|oo{ txe `rise dag> Oer ync_me0mobe dha~ d_ub|ed0in0thu 2% yuarc avteb txe gar> Wu i~cruasud _ur0ta{e-xomu pqy yn dhoce \"5 ieabs ry }oru txan0we0hat a}asced0in0al| txe `resedyng015  yuarc pet doguthur.0Yec, dhebe gas0so}e ynf|atyon< 10or01\\!/2L purcunt0a ieab. Dhad dydn7t rotxer0us> Bet yf ge |oo{ bqck0at0th_se0go|de~ yuarc, ge becqll0thqt uve~ txen0voycec hqd ree~ rqisud,0wabni~g dhad i~flqti_n,0li{e badyoastifiti, gas0cu}ulqtife qnd0thqt _ncu sdarded0it0coeld0ged oet _f sondro|.\n",
      "_So}e wovurn}end pbogbamc suemud co gordhwxilu txat0bobroginw t_ fend0thum tid~'t0bodheb uc. Ry !96  oer ~atyonql tebd sdoot ad $\"840bi|li_n.0Co~gruss0in019'1 tecydet t_ pet q cuilyng0of040  byllyon0on0oub arilyty0to0bobrog. Dodqy dhe0dert ys )340bi|li_n.0So=ca|let tump_raby yncbeaces0or0exdencio~s yn dhe0dert sei|inw hqve0beun qll_wet 2! tymec i~ txesu 1  yuarc, qnd0nog I7ve0beun vorsed0to0as{ f_r qnodheb i~cruasu i~ txe tebd cuilyng0or0thu g_vebnmunt0wi|l re enarle0to0fu~ctyon0pact dhe0mitdlu ov Fubreari -= a~d Y'vu o~ly0beun xeru 1& dqys> Bufobe ge beash dhe0dai wxen0we0ca~ ruduse dhe0dert sei|inw, ge }ay0in0spyte0of0oub bust0efvords cee0a ~atyonql tebd i~ ehcecs _f q tbil|io~ d_llqrs> N_w,0thys ys q fygube dhad's0liderqlli buyo~d _ur0co}pruhe~si_n._\n",
      "Wu k~ow0nog txat0invladio~ rusu|ts0fr_m qll0thqt tefycid s`entinw. Wovurn}end hqs _nli tgo gayc ov guttyng0mo~ey0otxer0thqn baicinw tqxec. Yt san0go0indo dhe0mo~ey0mabked a~d rorbow< c_mputi~g gitx ids _wn0cidizuns0ant dbivyng0up0inderust0rades< wxicx id hqs tonu, _r yt san0prynt0mo~ey< a~d yt'c d_ne0thqt.0Bodh }etxodc abe ynf|atyonqry>\n",
      "\n",
      "Ge'be ficdimc ov lqngeagu. Dhe0veby gort `pinvladio~''0leqds0us0to0thynk0of0it0as0juct xigx pbicus.0Thun,0of0coersu, ge besunt0thu purs_n gho0puds _n dhe0pryce0taws,0fobgedti~g dhad hu ob sxe ys qls_ a0visti} ov i~flqti_n.0Invladio~ ic n_t zusd hygh0prycec; yt'c a0retucdio~ i~ txe falee _f _ur0mo~ey> Wxen0thu m_nei sepp|y ys yncbeaced0bud txe woots qnd0sebvises0avqilqblu f_r ruyyng0aru n_t,0we0hafe doo0mush }onuy shacinw t_o vew0go_ds> Wqrs0aru ucua|ly0acsom`anyed0by0invladio~. Uvebyo~e ys gor{inw ob fyghdinw, rut0pr_dusti_n ys _f gea`onc a~d }unyti_ns< n_t dhi~gs0we0ca~ bey qnd0usu.\n",
      "_Nog, _ne0wai oet gou|d re do baice daxus co dhad g_vebnmunt0neud ~ot0bobrog ob pbind m_nei. Rut0in0al| txesu yuarc ov g_vebnmunt0gr_wtx, ge'fe beashet, yndued0subpacset, dhe0li}it0of0oub puop|e'c t_lebanse _r qbi|iti t_ buar0an0insreqse0in0thu tqx rurten> Pbiob t_ W_rlt Wqr YI,0tahes0webe cucx txat0on0thu aferqge0we0on|y xad0to0wobk zusd a0lidtlu ofer01 }ondh uacx yuar0to0pai oer dotql Vedura|, Ctade,0ant l_ca| tqx ril|. Dodqy ge xavu t_ w_rk04 }ondhs0to0pai txat0bi|l._\n",
      "S_me0sai sxifd txe dax0bubde~ t_ besi~esc a~d yndestby,0bud besi~esc d_es~'t0pai tqxec. _h,0do~'t0ged txe gro~g ydeq. Rusynecs ys rei~g daxud,0so0mush co dhad wu'ru buinw pbicud _ut0of0thu w_rlt mqrkut.0Bud besi~esc mest0pacs yts0cocts0of0opuradio~s =- qnd0thqt ync|udus daxus =- _n do dhe0cucto}er0in0thu pbicu ov txe `rotucd. _nli puop|e `ay0tahes< a|l dhe0tahes> G_vebnmunt0juct esec besi~esc i~ a0ki~d _f cneqky0wai t_ hulp0co|lest dhe0tahes> Txey7re0hitde~ i~ txe `rise;0we0arun'd agaru ov h_w }ucx tqx ge qcteal|y `ay>\n",
      "\n",
      "Dodqy dhic o~ce0gruat0intusdriql wia~t _f _urc hqs dhe0logesd rqte0of0gayn yn `rotucdivyty0of0vibtuqlli a|l dhe0intusdriql ~atyonc wyth0wh_m ge }usd c_mpute0in0thu w_rlt mqrkut.0We0ca~'t0evun xolt oer _wn0mabked hure0in0Amurisa qgaynsd f_reygn0audom_bi|es< sdee|, qnd0a ~umrer0of0otxer0pr_dusts> Jqpa~esu pbodectyon0of0audom_bi|es0is0al}osd tgicu ac gbead pur gor{er0as0it0is0in0Amurisa.0Ja`anuse0stuelgor{erc oetpbodece0thuir0Amurisan0coenturpqrtc bi aroud 2% purcunt>\n",
      "\n",
      "^ow< txis0is~'t0besauce dhei'ru buttur gor{erc. Y'l| mqtcx txe Qmebicqn gor{inw mqn _r gomqn qgaynsd a~yo~e yn dhe0wobld> Bet ge xavu t_ gyve0thum dhe0to_ls0ant eaui`me~t dhad w_rkurs0in0thu odheb i~ductryal0nadio~s xavu.\n",
      "_We0infended0thu acse}bli lyne0ant mqss0pr_dusti_n,0bud penidivu tqx `olycius qnd0exsescivu a~d ennucecsaby begeladio~s `luc g_vebnmunt0bobroginw hqve0styflud _ur0abylidy do epdqte0plqnt0ant eaui`me~t.0Whun sapyta| i~vectmunt0is0mate,0it7s doo0ofden0fob s_me0un`rotucdivu a|tebatyonc duma~det bi g_vebnmunt0to0meut faryouc ov ids begeladio~s.0Exsescivu tqxadio~ ov i~difidealc hqs bobred0us0of0insendivu a~d }adu oferdimu u~pr_fidab|e._\n",
      "Wu o~ce0pr_dused0ab_ut0400pebce~t _f dhe0wobld7s cteul.0We0nog pbodece0190pebce~t.0We0webe _ncu txe wreqtect `rotucur _f qut_morilus,0pr_dusinw m_re0thqn qll0thu rust0of0thu w_rlt c_mbynet. Dhad ic n_ l_ngur druu, qnd0in0adtityon< txe p`Byg Dhrue,7' dhe0mazor0audo som`anyes0in0oub lqnd< hqve0suctaynet tbemund_us0locsec i~ txe `asd yuar0ant hqve0beun vorsed0to0lai ovf dhoesa~ds0of0wobkebs._\n",
      "A|l _f iou0wh_ abe gor{inw k~ow0thqt uve~ wyth0coct-_f-|ivyng0pai rqisus,0yoe cqn'd kuep0up0widh ynf|atyon> I~ oer `rowrecsife dax0sycte}, qs iou0insreqse0thu nembur _f tol|arc y_u uar~, iou0fi~d ioubse|f }ovud ep ynt_ hyghur dax0brqckuts< pqyi~g q hyghur dax0rade zusd f_r dryyng0to0ho|d ioub ogn.0Thu rusu|t?0Yoer cta~dabd _f |ivyng0is0goyng0dogn._\n",
      "Ofer0thu pqst0desadus ge'fe dal{ed0of0cubtayli~g wovurn}end s`entinw s_ txat0we0ca~ txen0loger0thu tqx rurten> S_medimus ge'fe uve~ tqke~ a0ru~ ad d_inw txat> Bet dhebe geru a|wais dhoce gho0to|d es dhad tqxec c_ultn'd bu cet entyl cpe~di~g gas0retucud.0We|l,0yoe k~ow< wu cqn |ecduru oer shi|drun qboet uxtbavqga~ce0undil0we0ru~ oet _f foise qnd0bruatx. _r ge san0cube dheyr uxtbavqga~ce0by0si}pli rudusinw txeib a|loganse._\n",
      "Id's0ti}e do bec_gnyze0thqt ge'fe somu t_ a0tubni~g `oi~t.0We7re0thbeadenud gitx a~ eson_mis cqla}iti ov tbemund_us0pr_pobti_ns< a~d dhe0olt besi~esc-ac-ucua| tbeadme~t san7t cavu uc. Doguthur,0we0muct shabt q dyffure~t soubse>\n",
      "\n",
      "Ge }usd i~cruasu pbodectyvidy.0Thqt }ea~s }akyng0it0pocsirle0fob i~ductri t_ m_debnije qnd0ma{e ese0of0thu tuch~ol_gy0whych0we0oubse|vec i~ve~tet. Dhad muanc pettyng0Amurisanc bqck0to0wobk.0Ant txat0meqns0ab_ve0al| bbinwinw g_vebnmunt0spundyng0bask gitxin0gofer~me~t bevunuus,0whych0is0thu o~ly0wai, doguthur gitx i~cruasud `rotucdivyty< txat0we0ca~ ruduse qnd< yus,0elymi~atu i~flqti_n._\n",
      "I~ txe `asd wu'vu tbiet t_ fyghd i~flqti_n _ne0yeqr qnd0thun,0widh ene}pl_ymunt0insreqset, dur~ txe ~exd yuar0to0fiwhtyng0unump|oy}end wyth0mobe tefycid s`entinw ac a0pu}p `ri}er> S_, qgayn,0up0gous ynf|atyon> Id hqsn7t gor{ed> Wu d_n'd hqve0to0ch_osu butwuen0invladio~ a~d ene}pl_ymunt0--0thuy wo xant i~ hqnd> Id's0ti}e do dry0so}etxinw dyffure~t,0ant txat7s ghad wu'ru g_inw t_ d_.\n",
      "_I'fe qlruadi p|acud q fbeeje _n xiryng0re`lasemuntc f_r dhoce gho0rediru ob luavu g_vebnmunt0sebvise.0I'fe _rduret a0cud i~ g_vebnmunt0trqve|, dhe0nu}beb ov c_nseltqntc t_ txe wovurn}end, qnd0thu beyi~g _f _ffyce0eqeip}end a~d _thur yte}s.0I'fe `ut0a vreuze0on0pe~di~g begeladio~s qnd0sed u` a0tack vorse endur Ficu Pbesyde~t Rusx t_ ruviuw begeladio~s gitx a~ eie dowqrd0gedti~g bid0of0as0ma~y qs `oscib|e.0I xavu duco~tr_llud _il< wxicx sxou|d beselt0in0mobe tomustyc `rotucdio~ a~d |esc dupe~de~ce0on0fobeiwn _il> A~d Y'm0elymi~atyng0thqt ynevfestife Sou~ci| o~ Wqge0ant Pbicu Sdabylidy._\n",
      "Bet yt gil| tqke0mobe,0mush }oru. Qnd0we0muct bea|izu txeru ic n_ qeic{ fyx.0At0thu sqme0ti}e,0hogevur,0we0ca~nod dulai i~ i}plume~ti~g qn uco~omyc `rowra} aymet ad b_th0retucyng0tah rqtec t_ sdimelade `rotucdivyty0ant rudusinw txe wrogth0in0gofer~me~t cpe~di~g do bedece0unump|oy}end a~d ynf|atyon>\n",
      "\n",
      "_n Vebbuaby !8tx, Y wyll0pruse~t yn tetqil0an0ec_no}ic0pr_grqm do Sonwrecs umb_dyyng0thu fuaterec I7ve0juct ctaded> Id wyll0pr_poce rudwet0cuds yn firdua|ly0evury0de`ardme~t _f wovurn}end. Yt ys }y relyef0thqt dhece qcteal0butged cets0wi|l _nli bu pqrt0of0thu sqvi~gs> Ac oer Sabyned Sucrutabiec tqke0chqrgu ov txeib dupabtmuntc, dhei wyll0seqrcx oet qreqs _f gasde,0exdrafagqncu, qnd0coctli oferxeat wxicx c_ult yyelt atdidio~al0ant sebsdandia| rudusti_ns>\n",
      "\n",
      "^ow< ad txe camu tyme0we7re0doyng0thys,0we0muct wo vorgart wyth0a dax0re|iev pqckqge> I0shqll0as{ f_r q 1 -purcunt0retucdio~ asrocs dhe0boqrd0in0pebso~al0insomu tqx batus vor0eash _f dhe0neht # yuarc. @ro`osqls0wi|l qls_ bu sebmyttud vor0acseluraded0de`resiadio~ a|loganses0fob besi~esc t_ pbovyde0nesescari cqpidal0so0as0to0cruatu j_bs>\n",
      "\n",
      "^ow< hure0agqin< i~ sqyi~g dhic, Y k~ow0thqt |anwuawe,0as0I cait eqrlyer< cqn wet0in0thu wqy _f q c|eab u~debstqndyng0of0whqt _ur0pr_grqm ys yntundud do to.0Butged cets0ca~ s_unt ac iv wu'ru g_inw t_ ruduse dotql wovurn}end s`entinw t_ a0loger0lefel0thqn gas0spunt0thu yuar0bevoru. Gel|, dhic ic n_t dhe0cace.0Thu bedguts0wi|l yncbeace qs _ur0po`ulqti_n yncbeaces< a~d uacx yuar0we7ll0seu s`entinw i~cruasus do }atsh dhad gbowdh.0Gofer~me~t bevunuus gil| i~cruasu ac txe uco~omi gbowc, rut0thu berdun gil| bu lyghder0fob eqch0intivyduql,0besauce dhe0ec_no}ic0bace gil| hqve0beun uxpqndud ry beacon0of0thu rudused0rades>\n",
      "\n",
      "^ow< lut }e chog y_u q cxard txat0I'fe xad0drqwn0to0il|usdrade xow0thys san0be>\n",
      "\n",
      "Xeru y_u cee0tw_ tbent lynec. Dhe0bodto} lyne0sh_ws0thu i~cruasu i~ tqx bevunuus.0Thu rud |inu o~ t_p ys dhe0insreqse0in0gofer~me~t cpe~di~g.0Bodh |inus dur~ u`wabd,0revlesti~g dhe0giqnt0tah i~cruasu a|reqdy0buylt0indo dhe0sycte} f_r dhic yuar019(1,0ant txe yncbeaces0in0spundyng0buylt0indo dhe0'8! a~d 7820butgeds qnd0on0indo dhe0fuduru. Qs iou0ca~ sue,0thu s`entinw lyne0rices0at0a cteupeb s|and txan0thu ruve~ue0li~e.0Ant txat0ga` butwuen0th_se0li~es0il|usdrades0thu i~cruasyng0devicyts0we7ve0beun bun~inw, ync|udyng0thys ieab's0$8  byllyon0devicyt._\n",
      "N_w,0in0thu suco~d shabt,0thu lynec rupruse~t dhe0pocityve0efvecds ghe~ C_ngbesc asce`ts0oub eson_mis pbogbam> B_th0li~es0co~ti~ue0to0rice,0al|owyng0fob nucecsaby wrogth< bet dhe0ga` nqrr_ws0as0spundyng0cuds sondinee _veb txe ~exd fuw ieabs entyl vinqlli txe dwo0li~es0co}e doguthur,0meqni~g q bqla~cet bedgut._\n",
      "I0am0co~fitend txat0my0ad}inystbatyon0ca~ ashiuve0thqt.0At0thqt `oi~t dax0refenees< i~ s`itu ov rqte0retucdio~s,0wi|l re yncbeacinw fqstur dha~ s`entinw, ghish }ea~s ge san0lo_k vorgart t_ fertxer0retucdio~s yn dhe0tah rqtec.\n",
      "_Nog, yn qll0of0thys ge gil|, _f soubse< w_rk0cl_se|y gitx txe Vedura| Rusebve0Sycte} t_wabd dhe0obzecdivu ov a0stqblu m_nedari p_lisy._\n",
      "Oer cpe~di~g sutc wyll0nod bu ad txe uxpunsu ov txe dru|y ~eety.0We0wi|l,0hogevur,0seuk do uli}inqte0be~efyts0to0th_se0wh_ abe ~ot0reqlli qealyfiud ry beacon0of0neud._\n",
      "Ac I7ve0sayd ref_re< o~ Fubreari 1(th0I gil| pbesunt0thys uco~omyc `ac{agu ov bedgut bedectyonc a~d dax0revor} t_ a0joynt0secsi_n _f Sonwrecs qnd0to0yoe i~ fell0dedai|.\n",
      "_Oub bqsis sistum ys cou~d.0We0ca~, gitx c_mpqssyon< c_ntynuu t_ muet0oub rusp_nsybi|iti t_ txosu wxo,0thbouwh ~o vau|t _f dheyr _wn< nued0oub hulp> Wu cqn }eed felli txe _thur |egyti}atu rusp_nsybi|ityes0of0gofer~me~t.0We0ca~nod c_ntynuu a~y |onwer0oub wqstufu| wqys0at0thu ehpe~se0of0thu w_rkurs0of0thys |ant ob ov oer shi|drun._\n",
      "Syncu 1)600oub g_vebnmunt0hac s`end $%.10tryllyon> Oer tebd hqs wrogn ry &480bi|li_n.0Prycec hqve0ex`loted0by017( purcunt> H_w }ucx buttur _ff0aru wu f_r qll0thqt?0We|l,0we0al| k~ow0we7re0veby }ucx w_rsu ovf.0Whun ge }eacuru h_w xarchli txesu yuarc ov i~flqti_n,0loger0pr_dustifiti, qnd0unsondro|let g_vebnmunt0gr_wtx hqve0afvecded0oub lyvec, ge {nog wu mest0acd a~d qct0nog. Ge }usd n_t re dimyd.0We0wi|l besdoru txe vreudo} ov a|l }en0ant w_me~ t_ ehce| a~d do sreqte> Wu wyll0un|each dhe0enurgi a~d wenyus0of0thu A}eryca~ puop|e,0trqitc wxicx hqve0nefer0faylet uc.\n",
      "_To0thu C_ngbesc ov txe Enided0Stqtec, Y ehte~d }y xant i~ c_opuradio~, qnd0I relyevu wu cqn wo vorgart i~ a0bi`ardisqn }an~er> I7ve0foend0a bea| wyllyng~esc t_ c_opurade _n dhe0pabt _f Tem_crqts0ant mumburs0of0my0ow~ pqrti.\n",
      "_To0my0co|leqguus yn dhe0exucudivu bbansh _f wovurn}end a~d do qll0Feterql ump|oyues< I0as{ txat0we0wobk yn dhe0spyrid ov survyce>\n",
      "\n",
      "Y ubge0th_se0gruat0inctidutyonc i~ A}eryca< besi~esc a~d |ab_r,0to0be0guydet bi txe ~atyonql ynturect,0ant I7m sonvidunt0thuy gil|. Dhe0on|y cpesia| i~tebesd txat0we0wi|l cerfe ys dhe0inderust0of0al| txe `eo`le>\n",
      "\n",
      "Ge san0cruatu txe yncuntyvec wxicx tqke0adfandagu ov txe wenyus0of0oub eson_mis sistum =- q sistum,0as0Wa|teb Lypp}an~ orsebvet m_re0thqn $0 ieabs qgo< wxicx f_r dhe0fibst0ti}e yn xisdori gqve0me~ `pa gay0of0pr_dusinw wualdh yn ghish dhe0go_d vordunu ov odhebs }uldip|iet txeib ogn.7'\n",
      "_Oub aym ys do yncbeace _ur0nadio~al0weqltx s_ a|l gil| hqve0mobe,0nod jest0retisdrirutu wxat0we0albeaty xavu wxicx ic jest0a chabinw ov ssarsiti. Ge san0bewin0to0regart hqrd0wobk qnd0rick-dakyng< bi f_rcyng0thys Wovurn}end t_ lyve0widhi~ ids }ea~s._\n",
      "Ofer0thu yuarc wu'vu lut ~egqtife uco~omyc vorses0ru~ oet _f sondro|. Ge cta|let txe zudwme~t tay< bet ge ~o |onwer0hafe dhad lexuby.0We7re0oud ov tyme>\n",
      "\n",
      "Qnd0to0yoe, }y vel|ow0cidizuns< lut es zoi~ i~ a0neg dutebmi~atyon0to0rerui|d dhe0foendqti_n _f _ur0sosiedy,0to0wobk doguthur,0to0acd rusp_nsybli. \\et0us0do0so0widh dhe0moct `rovou~d bes`ecd f_r dhad wxicx mest0be0prusebvet ac wull0as0widh cencityve0untercta~di~g qnd0co}pacsi_n vor0th_se0wh_ mest0be0pr_testet.\n",
      "_We0ca~ luavu oer shi|drun gitx a~ u~re`ayqblu mqssyve0dert qnd0a chadtebed0ec_no}y,0or0we0ca~ luavu txem0lirerdy yn q lqnd0whure0evury0intivyduql xas0thu o`pobtu~iti t_ bu wxatuveb G_d yntundud es do re.0Al| id tqkec ic a0lidtlu c_mm_n cence qnd0resog~ityon0of0oub ogn qbi|iti. Doguthur ge san0fobge0a ~ew0bewin~inw f_r Qmebicq.\n",
      "_Thqnk0yoe, qnd0go_d ~igxt._\n",
      "\n"
     ]
    }
   ],
   "source": [
    "%run Decrypt.py"
   ]
  },
  {
   "cell_type": "markdown",
   "id": "f9b1f405",
   "metadata": {},
   "source": [
    "Now, let's try to find the password by doing a brute force attack using what we've learned.    We'll try all possible 3 character passwords.\n",
    "There are 26\\*26\\*26 = 17576 possible passwords.    Of those, we will decrypt the file `ciphertext` for each password.\n",
    "\n",
    "This may take a while.    The code `hack.py` will prints out progress after every 500 new passwords it tries.\n",
    "At the end, it prints the \"winning\" password, i.e., the one the is closest to English.\n"
   ]
  },
  {
   "cell_type": "code",
   "execution_count": null,
   "id": "79556697",
   "metadata": {},
   "outputs": [],
   "source": [
    "%run hack.py"
   ]
  },
  {
   "cell_type": "markdown",
   "id": "6830b284",
   "metadata": {},
   "source": [
    "Try the winning password that this program found using the decryption algorithm above to see find the secret message.   You can see the code below that finds the secret password.\n"
   ]
  },
  {
   "cell_type": "code",
   "execution_count": null,
   "id": "9de1bdc2",
   "metadata": {},
   "outputs": [],
   "source": [
    "f=open(\"hack.py\")\n",
    "hack_data = f.read()\n",
    "print(hack_data)\n"
   ]
  },
  {
   "cell_type": "markdown",
   "id": "ede0ec8c",
   "metadata": {},
   "source": [
    "## Advanced Exercises\n",
    "\n",
    "1. Speed up the program `hack.py`.\n",
    "\n",
    "The encryption algorithm doesn't use all of the characters of the password to encrypt each character in the final result.\n",
    "In particular, the encryption algorithm used encrypts the ith character with the ith character of the password.  \n",
    "\n",
    "Hence, we can find the exact password by \n",
    "doing frequency analysis on slices of the file formed by each character in the password \n",
    "(i.e., we should be able to find the password by looking at only 26 + 26 + 26 = 78 passwords instead of all 17576).\n",
    "This will be much faster.   (Or, you might try to only look at the top two or three characters from each character band.)\n",
    "\n",
    "This demonstrates the core weakness of this encryption approach --- it should be the case that each\n",
    "character in the encrypted file depends on **all of the characters in the password **, and not such one.\n",
    "\n",
    "2. Decrypt the file `secret.txt` using a dictionary based attack.   The password for this file was a single dictionary word.\n",
    "\n",
    "3. Decrypt the file `secret2.txt` using a dictionary based attack.   The password for this file was two dictionary words concatenated together.\n"
   ]
  },
  {
   "cell_type": "code",
   "execution_count": null,
   "id": "513451d6",
   "metadata": {},
   "outputs": [],
   "source": []
  }
 ],
 "metadata": {
  "kernelspec": {
   "display_name": "Python 3",
   "language": "python",
   "name": "python3"
  },
  "language_info": {
   "codemirror_mode": {
    "name": "ipython",
    "version": 3
   },
   "file_extension": ".py",
   "mimetype": "text/x-python",
   "name": "python",
   "nbconvert_exporter": "python",
   "pygments_lexer": "ipython3",
   "version": "3.9.5"
  }
 },
 "nbformat": 4,
 "nbformat_minor": 5
}
