{
 "cells": [
  {
   "cell_type": "markdown",
   "id": "bdb449bf",
   "metadata": {},
   "source": [
    "# A Simple Example and Exercises\n",
    "\n",
    "Here we will discuss a simple example that (i) shows how to encrypt a file using a password, (ii) how to decrypt the file using a\n",
    "password, and (iii) how to perform a brute force attack to find the original file.\n",
    "\n",
    "## Simple Idea\n",
    "As an example, we will use a simply encryption algorithm the takes a plaintext, \n",
    "e.g., *Mary had a little lamb.* and \n",
    "a password, e.g., *abc* and does the following to each character in the plaintex\n",
    "t:\n",
    "1. It converts the ith character in the string to an integer using the `ord` function.\n",
    "2. It converts the ith character of the password to an integer using the `ord` function.   (If the password is shorter than the plaintext, the character from the password that is used is the character i `mod` the length of the password.) \n",
    "3. It outputs the number (character) produced by applying the XOR function (`^` \n",
    "in Python) to the results from 1 and 2.\n",
    "\n",
    "\n",
    "The resulting encrypted string is simply a list of numbers, some which may corre\n",
    "spond to characters.\n",
    "\n",
    "For example, *Mary hard a little lamb.* corresponds to the following list\n",
    "of character codes\n",
    "\n",
    "    [77, 97, 114, 121, 32, 104, 97, 100, 32, 97, 32, 108, \n",
    "    105, 116, 116, 108, 101, 32, 108, 97, 109, 98, 46, 10]\n",
    "\n",
    "    because `M` corresponds to character code 77 and `.` corresponds to character code 10.   (Notice that character code 32 corresponds to a space.)\n",
    "If we encrypt this plaintext with a password (e.g., *abc*), we get the following ciphertext.\n",
    "\n",
    "    [44, 3, 17, 24, 66, 11, 0, 6, 67, 0, 66, 15, 8, 22, 23, 13, 7, \n",
    "     67, 13, 3, 14, 3, 76, 105]\n",
    "\n",
    "Because many of these numbers correspond to unprintable characters, we store these values as a list of numbers instead of characters.  Representing this list of integers as a string gives the following string:\n",
    "\n",
    "     ,___B __C_B____ _C ___Li\n",
    "\n",
    "(Here we use the `_` character to represent an unprintable character.)\n",
    "\n",
    "Let's look at the encryption program."
   ]
  },
  {
   "cell_type": "code",
   "execution_count": null,
   "id": "47b8b9f4",
   "metadata": {},
   "outputs": [],
   "source": [
    "f = open(\"Encrypt.py\")\n",
    "data=f.read()\n",
    "print(data)"
   ]
  },
  {
   "cell_type": "markdown",
   "id": "323aa33a",
   "metadata": {},
   "source": [
    "This program opens a file `plaintext` and writes to a file `ciphertext` .   The companion program `Decrypt.py` reads the file ciphertext and \n",
    "outputs the file plaintext.\n",
    "\n",
    "Let's look at the decryption program in Python."
   ]
  },
  {
   "cell_type": "code",
   "execution_count": null,
   "id": "4b285018",
   "metadata": {},
   "outputs": [],
   "source": [
    "f = open(\"Decrypt.py\")\n",
    "data=f.read()\n",
    "print(data)"
   ]
  },
  {
   "cell_type": "markdown",
   "id": "ecef0aaa",
   "metadata": {},
   "source": [
    "We have a file `ciphertext`that was encrypted using a three character password.   See if you can guess the 3 word password!\n"
   ]
  },
  {
   "cell_type": "code",
   "execution_count": null,
   "id": "f512333c",
   "metadata": {},
   "outputs": [],
   "source": [
    "%run Decrypt.py"
   ]
  },
  {
   "cell_type": "markdown",
   "id": "f9b1f405",
   "metadata": {},
   "source": [
    "Now, let's try to find the password by doing a brute force attack using what we've learned.    We'll try all possible 3 character passwords.\n",
    "There are 26\\*26\\*26 = 17576 possible passwords.    Of those, we will decrypt the file `ciphertext` for each password.\n",
    "\n",
    "This may take a while.    The code `hack.py` will prints out progress after every 500 new passwords it tries.\n",
    "At the end, it prints the \"winning\" password, i.e., the one the is closest to English.\n"
   ]
  },
  {
   "cell_type": "code",
   "execution_count": null,
   "id": "79556697",
   "metadata": {},
   "outputs": [],
   "source": [
    "import matplotlib\n",
    "%run hack.py"
   ]
  },
  {
   "cell_type": "markdown",
   "id": "6830b284",
   "metadata": {},
   "source": [
    "Figure 1 shows the distance of all the possible combinations sorted from best to worst.  Figure 2 shows the sorted values of the best 26 attempts, and, as you can see, for such a short password it gets very bad very quickly.  Figure 3 shows the unsorted values, an astute reader should be able to detect the points where exactly 1 correct letter, exactly 2 correct letters, and exactly 3 correct letters have been found.    \n",
    "\n",
    "Try the winning password that this program found using the decryption algorithm above to see find the secret message.   You can see the code below that finds the secret password.\n"
   ]
  },
  {
   "cell_type": "code",
   "execution_count": null,
   "id": "9de1bdc2",
   "metadata": {},
   "outputs": [],
   "source": [
    "f=open(\"hack.py\")\n",
    "hack_data = f.read()\n",
    "print(hack_data)\n"
   ]
  },
  {
   "cell_type": "markdown",
   "id": "ede0ec8c",
   "metadata": {},
   "source": [
    "## Advanced Exercises\n",
    "\n",
    "1. Speed up the program `hack.py`.\n",
    "\n",
    "The encryption algorithm doesn't use all of the characters of the password to encrypt each character in the final result.\n",
    "In particular, the encryption algorithm used encrypts the ith character with the ith character of the password.  \n",
    "\n",
    "Hence, we can find the exact password by \n",
    "doing frequency analysis on slices of the file formed by each character in the password \n",
    "(i.e., we should be able to find the password by looking at only 26 + 26 + 26 = 78 passwords instead of all 17576).\n",
    "This will be much faster.   (Or, you might try to only look at the top two or three characters from each character band.)\n",
    "\n",
    "This demonstrates the core weakness of this encryption approach --- it should be the case that each\n",
    "character in the encrypted file depends on **all of the characters in the password **, and not such one.\n",
    "\n",
    "2. Decrypt the file `secret.txt` using a dictionary based attack.   The password for this file was a single dictionary word.\n",
    "\n",
    "3. Decrypt the file `secret2.txt` using a dictionary based attack.   The password for this file was two dictionary words concatenated together.\n"
   ]
  },
  {
   "cell_type": "code",
   "execution_count": null,
   "id": "513451d6",
   "metadata": {},
   "outputs": [],
   "source": []
  }
 ],
 "metadata": {
  "kernelspec": {
   "display_name": "Python 3",
   "language": "python",
   "name": "python3"
  },
  "language_info": {
   "codemirror_mode": {
    "name": "ipython",
    "version": 3
   },
   "file_extension": ".py",
   "mimetype": "text/x-python",
   "name": "python",
   "nbconvert_exporter": "python",
   "pygments_lexer": "ipython3",
   "version": "3.9.5"
  }
 },
 "nbformat": 4,
 "nbformat_minor": 5
}
