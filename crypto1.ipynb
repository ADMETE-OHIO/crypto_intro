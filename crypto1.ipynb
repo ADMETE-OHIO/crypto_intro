{
 "cells": [
  {
   "cell_type": "markdown",
   "id": "7db351f8",
   "metadata": {},
   "source": [
    "# What is Crytography?\n",
    "\n",
    ">Cryptography is the **science of secret writing**.   \n",
    "\n",
    "Cryptopgraphy has been used since the time of the Roman empire (or earlier) to construct secret messages of \n",
    "high importance.   Crytography is especially important today, as \n",
    "it crucial to the success of electronic commerce.  (Without cryptography, evesdroppers could \n",
    "easily listen to your cell-phone or laptop communications with the internet and steal passwords/credit \n",
    "                            card numbers/etc.).\n",
    "\n",
    "## Classic Cryptography\n",
    "\n",
    "In the classic language surrounding cryptography, the original secret\n",
    "message is referred to as the *plaintext*.   \n",
    "\n",
    "> Plaintext is the **original message**\n",
    "\n",
    "Two people (A and B) can communicate securely \n",
    "if both the parties know a secret *key*. \n",
    "\n",
    "> The key is the **secret held between two parties to communicate**\n",
    "\n",
    "In cryptography, we encrypt the plaintext using the key to form a \n",
    "message that is hard to read.    The encrypted version of the plaintext is referred to as the \n",
    "*ciphertext* and is sent from A to B. \n",
    "\n",
    "> Encryption is the **process of converting the plaintext to the ciphertext.**\n",
    "\n",
    "> The ciphertext is the **encrypted plaintext that is sent between two people.**\n",
    "\n",
    "Ideally, if a third party (C) intercepts or eavesdrops on the \n",
    "communication, the ciphertext is secure because it cannot be converted to the plaintext without the key.    \n",
    "Once B receives the ciphertext, B uses the secret key (*decryption*) to convert the ciphertext back into the \n",
    "plaintext.\n",
    "\n",
    "> Decryption is the **process of converting the ciphertext back to the plaintext.**\n",
    "\n",
    "## Overview of Classical Cryptography\n",
    "![](./crypto.png)\n",
    "## One-time pad\n",
    "\n",
    "If two parties have a very long (as long as the message being sent) shared password that is only used once encrypt a message\n",
    "from A to B, this is called a *one-time pad*.    This type of cryptography is very hard (or impossible) to break.\n",
    "\n",
    "> A one-time pad is a **one time password that is as long as the message being sent.**\n",
    "\n",
    "## Modern Cryptography --- Public Key Cryptography.\n",
    "\n",
    "> Many cryptographic systems use public key/private key cryptography.\n",
    "\n",
    "The core idea behind these systems is that everyone has both a public key and a private key.    The public key is known to everyone.   However, when someone encrypts a message with\n",
    "A's public key, only A can decrypt it (using their private key.)    \n",
    "\n",
    "Hence, **secret** keys do not have to be shared.\n",
    "\n",
    "\n",
    "\n"
   ]
  },
  {
   "cell_type": "code",
   "execution_count": null,
   "id": "e05dc57a",
   "metadata": {},
   "outputs": [],
   "source": []
  }
 ],
 "metadata": {
  "kernelspec": {
   "display_name": "Python 3",
   "language": "python",
   "name": "python3"
  },
  "language_info": {
   "codemirror_mode": {
    "name": "ipython",
    "version": 3
   },
   "file_extension": ".py",
   "mimetype": "text/x-python",
   "name": "python",
   "nbconvert_exporter": "python",
   "pygments_lexer": "ipython3",
   "version": "3.8.5"
  }
 },
 "nbformat": 4,
 "nbformat_minor": 5
}
