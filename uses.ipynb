{
 "cells": [
  {
   "cell_type": "markdown",
   "id": "cbcba72d",
   "metadata": {},
   "source": [
    "# How is cryptography used?\n",
    "\n",
    "## Safe Browsing\n",
    "Public key cryptography is used when you want to browse the web safely.   If you go to a web-site that has `https:` in front of it, you are using public key/private key cryptography\n",
    "to transmit data back and forth to the web-site securely.\n",
    "\n",
    "## Storing passwords\n",
    "Most UNIX systems don't actually store user passwords.   They store the result (ciphertext) of \n",
    "encrypting a string (Y) with the user's password. When the user types in their password, the system decrypts the encrypted version of Y with the password.\n",
    "If the answer comes back as Y, the system knows you entered the right password.\n",
    "\n",
    "## Digital Currency (bitcoin)\n",
    "Most digital currencies (think BitCoin) use encryption as a way to demonstrate `proof of work`, i.e., validating transactions and mining new money.\n",
    "Just like storing passwords, its possible to verify that work was done by applying the certificate to encryption/decryption algorithm. \n",
    "Finding the key is hard, but once you have the key, verifying that you have the key is easy.\n",
    "\n",
    "## Secure information sharing\n",
    "Governments use cryptography to communicate secrets.    For example, the famous Engima machine was used extensively by the German's during World War II to \n",
    "communicate troop movements, etc.    \n",
    "\n",
    " "
   ]
  }
 ],
 "metadata": {
  "kernelspec": {
   "display_name": "Python 3",
   "language": "python",
   "name": "python3"
  },
  "language_info": {
   "codemirror_mode": {
    "name": "ipython",
    "version": 3
   },
   "file_extension": ".py",
   "mimetype": "text/x-python",
   "name": "python",
   "nbconvert_exporter": "python",
   "pygments_lexer": "ipython3",
   "version": "3.9.5"
  }
 },
 "nbformat": 4,
 "nbformat_minor": 5
}
