{
 "cells": [
  {
   "cell_type": "code",
   "execution_count": null,
   "id": "67391f6c",
   "metadata": {},
   "outputs": [],
   "source": [
    "# Crytopgraphy and Frequency Analysis\n",
    "## What is Crytography?\n",
    "\n",
    "Cryptography is the science of secret writing.   It has been used since the time of the Roman empire \n",
    "(or earlier) to construct secret messages of high importance.   Crytography is especially important today, as \n",
    "it crucial to the success of electronic commerce.  (Without cryptography, evesdroppers could \n",
    "easily listen to your cell-phone or laptop communications with the internet and steal passwords/credit \n",
    "                            card numbers/etc.).\n",
    "\n",
    "In the classic language surrounding crytography, the original secret\n",
    "message is referred to as the *plaintext*.   Two people (A and B) can communicate securely \n",
    "if both the parties know a secret *key*. In cryptography, we encrypt the plaintext using the key to form a \n",
    "message that is hard to read.    The encrypted version of the plaintext is referred to as the \n",
    "*ciphertext* and is sent from A to B.   Ideally, if a third party (C) intercepts or eavesdrops on the \n",
    "communication, the ciphertext is secure because it cannot be converted to the plaintext without the key.    \n",
    "Once B receives the ciphertext, B uses the secret key (*decryption*) to convert the ciphertext back into the \n",
    "plaintext.\n",
    "\n",
    "## A simple encyption algorithm\n",
    "\n",
    "As an example, we will use a simply encryption algorithm the takes a plaintext, e.g., *Mary had a little lamb.* and \n",
    "a password, e.g., *abc* and does the following to each character in the plaintext:\n",
    "1. It converts the ith character in the string to an integer using the `ord` function.\n",
    "2. It converts the ith character of the password to an integer using the `ord` function.   (If the password is shorter than the plaintext, the character from the password that is used is the character i `mod` the length of the password.) \n",
    "3. It outputs the number (character) produced by applying the XOR function (`^` in Python) to the results from 1 and 2.\n",
    "\n",
    "\n",
    "The resulting encrypted string is simply a list of numbers, some which may correspond to characters.\n",
    "\n",
    "For example, *Mary hard a little lamb.* corresponds to the following list\n",
    "of character codes\n",
    "\n",
    "    [77, 97, 114, 121, 32, 104, 97, 100, 32, 97, 32, 108, \n",
    "    105, 116, 116, 108, 101, 32, 108, 97, 109, 98, 46, 10]\n",
    "\n",
    "because `M` corresponds to character code 77 and `.` corresponds to character code 10.   (Notice that character code \n",
    "                                                                                          32 corresponds to a space.)\n",
    "If we encrypt this plaintext with a password (e.g., *abc*), we get the following ciphertext.\n",
    "\n",
    "    [44, 3, 17, 24, 66, 11, 0, 6, 67, 0, 66, 15, 8, 22, 23, 13, 7, \n",
    "     67, 13, 3, 14, 3, 76, 105]\n",
    "\n",
    "Because many of these numbers correspond to unprintable characters, we store these values as a list of numbers instead of characters.\n",
    "Representing this list of integers as a string gives the following string:\n",
    "\n",
    "     ,___B __C_B____ _C ___Li\n",
    "\n",
    "(Here we use the `_` character to represent an unprintable character.)\n",
    "\n",
    "The attached files \\verb+Encrypt.py+ and \\verb+Decrypt.py+ encrypt and decrypt secret messages stored in the files \\verb+plaintext+ and \\verb+ciphertext+ using the approach described above.\n",
    "\n",
    "## How to know when you've found the answer!"
   ]
  },
  {
   "cell_type": "code",
   "execution_count": null,
   "id": "37685f4b",
   "metadata": {},
   "outputs": [],
   "source": []
  },
  {
   "cell_type": "code",
   "execution_count": null,
   "id": "2fb07efc",
   "metadata": {},
   "outputs": [],
   "source": []
  },
  {
   "cell_type": "markdown",
   "id": "a44250e9",
   "metadata": {},
   "source": []
  }
 ],
 "metadata": {
  "kernelspec": {
   "display_name": "Python 3",
   "language": "python",
   "name": "python3"
  },
  "language_info": {
   "codemirror_mode": {
    "name": "ipython",
    "version": 3
   },
   "file_extension": ".py",
   "mimetype": "text/x-python",
   "name": "python",
   "nbconvert_exporter": "python",
   "pygments_lexer": "ipython3",
   "version": "3.8.5"
  }
 },
 "nbformat": 4,
 "nbformat_minor": 5
}
