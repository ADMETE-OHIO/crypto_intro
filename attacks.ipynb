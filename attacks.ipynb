{
 "cells": [
  {
   "cell_type": "markdown",
   "id": "bf6c079f",
   "metadata": {},
   "source": [
    "# How can cryptography be attacked?\n",
    "If you are trying to figure out a secret message (or a password), there are several ways to try to figure out \n",
    "the key.\n",
    "\n",
    "## Brute Force Attacks\n",
    "> A **brute force** attack is an approach where you try every possible key.\n",
    "\n",
    "Brute force attacks can be effective if keys are small, or if it is not the case every character in the ciphertext depends on all of the \n",
    "bits of the key.\n",
    "\n",
    "So, for example, if your password (e.g., an ATM pin) is composed of 4 decimal digits, it is relatively easy to \n",
    "generate all possible passwords.\n",
    "\n",
    "How many such passwords are there?\n",
    "The code below shows how to generate all such passwords.\n",
    "\n"
   ]
  },
  {
   "cell_type": "code",
   "execution_count": null,
   "id": "4ce37f2d",
   "metadata": {},
   "outputs": [],
   "source": [
    "# Compute the number of 4 digits passwords\n",
    "count = 0\n",
    "for i in range(0,10):\n",
    "    for j in range (0,10):\n",
    "        for k in range (0,10):\n",
    "            for l in range (0,10):\n",
    "                print(str(i)+str(j)+str(k)+str(l))\n",
    "                count=count+1\n",
    "print(\"Total number of 4 digit passwords = \"+str(count))"
   ]
  },
  {
   "cell_type": "markdown",
   "id": "ff104c32",
   "metadata": {},
   "source": [
    "> System administrators recommend long and diverse (in terms of types of characters) to avoid brute force attacks.\n",
    "\n",
    "\n",
    "## Dictionary based attacks\n",
    "Another way to find the key is to assume that the password is composed of one or more words from the dictionary.\n",
    "A typical English dictionary contains 100,000-170,000 words.    However, the number of common words (and names) is much smaller.    \n",
    "\n",
    "If a dictionary contains 60,000 words, how many possible passwords formed by one or two words \n",
    "from the dictionary are there?\n",
    "\n",
    "The code below gives the answer."
   ]
  },
  {
   "cell_type": "code",
   "execution_count": null,
   "id": "508eb9f0",
   "metadata": {},
   "outputs": [],
   "source": [
    "dictionary_size = 60000\n",
    "one_word_keys = dictionary_size\n",
    "two_word_keys = dictionary_size * dictionary_size\n",
    "print(\"Total number of keys formed by one or two words from the dictionary = \"+str(one_word_keys+two_word_keys))"
   ]
  },
  {
   "cell_type": "markdown",
   "id": "befc702a",
   "metadata": {},
   "source": [
    "This is a big number, but a computer can try all of these in a matter of seconds!"
   ]
  },
  {
   "cell_type": "markdown",
   "id": "78b25e32",
   "metadata": {},
   "source": [
    "## Frequency Analysis\n",
    "Often, figuring out the key may be hard if we don't know what the answer should be from the result of decrypting the \n",
    "*ciphertext*.   However, if we make some assumptions about the data being encrypted, we can make a good guess when we've\n",
    "found the key.\n",
    "\n",
    "The general approach is **frequency analysis.**   We can examine the frequency of certain letters and digits in text to\n",
    "see whether **is close** to what we'd expect from English.\n",
    "\n",
    "Let's examine a standard English text ... the play \"Measure for Measure\" from Shakespeare.\n",
    "\n",
    "We will count the number of vowels (a, e, i, o, u) and spaces in the text, and compute the ratio of these counts to \n",
    "the length of the text.    We will store these values in a **vector** that we will use later.\n"
   ]
  },
  {
   "cell_type": "code",
   "execution_count": null,
   "id": "e8daa82d",
   "metadata": {},
   "outputs": [],
   "source": [
    "\"\"\"\n",
    "    Count the number of characters in the string X that are either\n",
    "    c1 or c2\n",
    "\"\"\"\n",
    "def count_chars(X,c1,c2):\n",
    "    sum=0\n",
    "    for i in range(len(X)):\n",
    "        if (X[i]==c1):\n",
    "            sum=sum+1\n",
    "        elif (X[i]==c2):\n",
    "            sum=sum+1\n",
    "    return sum\n",
    "\n",
    "# Count single characters\n",
    "def count_char(X,c1):\n",
    "    sum=0\n",
    "    for i in range(len(X)):\n",
    "        if (X[i]==c1):\n",
    "            sum=sum+1\n",
    "    return sum\n",
    "\n",
    "\n",
    "\n",
    "f=open(\"measure.txt\")\n",
    "data=f.read()\n",
    "c_vec = ['a','e','i','o','u',' ']\n",
    "char_vector = [count_chars(data,\"A\",\"a\"),count_chars(data,\"E\",\"e\"),\n",
    "               count_chars(data,\"I\",\"i\"),count_chars(data,\"O\",\"o\"),\n",
    "               count_chars(data,\"U\",\"u\"),count_char(data,\" \"),len(data)]\n",
    "print(char_vector)\n",
    "for i in range(len(char_vector)-1):\n",
    "    print(\"Frequency for character \"+str(c_vec[i])+\" = \"+str(char_vector[i]/len(data)))\n"
   ]
  },
  {
   "cell_type": "markdown",
   "id": "5a4f1fe4",
   "metadata": {},
   "source": [
    "So, we'd expect about 15% of all characters in an English text to be spaces, and about 9% to be e's, 5% to be a's, etc.\n",
    "(You could use all of the 26 characters in the alphabet, but these will be sufficient for our purposes.)\n",
    "\n",
    "Let's see if we can use frequency analysis to tell the difference between some random characters and some English text.\n",
    "\n",
    "We have threee files `random1.txt`, `random2.txt`, and `random3.txt`.   See whether you can determine which is English\n",
    "using only the frequency analysis code below.   \n",
    "\n",
    "We will calculate a vector (think of this as a direction) with 5 elements, the frequency of a's, e's, i's, o's, u's, and spaces in the text.\n",
    "We will compare two vectors using the Euclidean distance between them:\n",
    "$$ \\sqrt{\\sum_{i=1}^{6} (x_i - y_i)^2} $$\n",
    "\n",
    "This code prints the distance from the given text to English.   Smaller values are better!"
   ]
  },
  {
   "cell_type": "code",
   "execution_count": null,
   "id": "dd89be0b",
   "metadata": {},
   "outputs": [],
   "source": [
    "import math\n",
    "\n",
    "f=open(\"random2.txt\")\n",
    "ds=f.read()\n",
    "\n",
    "\n",
    "\"\"\"\n",
    "Compute the distance between two lists.\n",
    "The assumption is that the lists have the same number of elements.\n",
    "The last value is the total number of characters in the same.\n",
    "\n",
    "The rest are character counts.\n",
    "\n",
    "\"\"\"\n",
    "def distance(X1,X2):\n",
    "    total_chars_X1 = X1[len(X1)-1]\n",
    "    total_chars_X2 = X2[len(X2)-1]\n",
    "    sum=0\n",
    "    for i in range(len(X1)-1):\n",
    "        sum = sum + ((X1[i]/total_chars_X1)-(X2[i]/total_chars_X2))**2\n",
    "    return math.sqrt(sum)\n",
    "\n",
    "\n",
    "\n",
    "new_char_vector = [count_chars(ds,\"A\",\"a\"),count_chars(ds,\"E\",\"e\"),\n",
    "               count_chars(ds,\"I\",\"i\"),count_chars(ds,\"O\",\"o\"),\n",
    "               count_chars(ds,\"U\",\"u\"),count_char(ds,\" \"),len(ds)]\n",
    "\n",
    "dist = distance(char_vector,new_char_vector)\n",
    "\n",
    "print(\"The distance from this file to English is =\"+str(dist))"
   ]
  },
  {
   "cell_type": "markdown",
   "id": "a599f89b",
   "metadata": {},
   "source": [
    "Which one gave the smallest value?   Enter the name of the file in the code below to check your answer.\n"
   ]
  },
  {
   "cell_type": "code",
   "execution_count": null,
   "id": "262aa153",
   "metadata": {},
   "outputs": [],
   "source": [
    "#\n",
    "# Change the name inside the quotes to figure out which of the three files is English!\n",
    "#\n",
    "f=open(\"random1.txt\")\n",
    "ds=f.read()\n",
    "print(ds)"
   ]
  },
  {
   "cell_type": "code",
   "execution_count": null,
   "id": "945f2ea8",
   "metadata": {},
   "outputs": [],
   "source": []
  }
 ],
 "metadata": {
  "kernelspec": {
   "display_name": "Python 3",
   "language": "python",
   "name": "python3"
  },
  "language_info": {
   "codemirror_mode": {
    "name": "ipython",
    "version": 3
   },
   "file_extension": ".py",
   "mimetype": "text/x-python",
   "name": "python",
   "nbconvert_exporter": "python",
   "pygments_lexer": "ipython3",
   "version": "3.9.5"
  }
 },
 "nbformat": 4,
 "nbformat_minor": 5
}
